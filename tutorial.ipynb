{
 "cells": [
  {
   "cell_type": "markdown",
   "metadata": {},
   "source": [
    "# This notebook will show how to use wnnet module"
   ]
  },
  {
   "cell_type": "code",
   "execution_count": 1,
   "metadata": {},
   "outputs": [],
   "source": [
    "import wnnet.net as wn\n",
    "import wnnet.nuc as wnuc\n",
    "import wnnet.consts as wc\n",
    "import wnnet.reac as wr\n",
    "import wnnet.flows as wf\n",
    "import wnnet.zones as wz\n",
    "import wnnet.graph as wg"
   ]
  },
  {
   "cell_type": "markdown",
   "metadata": {},
   "source": [
    "### Computing physical constants"
   ]
  },
  {
   "cell_type": "markdown",
   "metadata": {},
   "source": [
    "This module contains the physical constants such as the speed of light and Boltzmann's constant used in the calculations for\n",
    "the wnnet package.  webnucleo codes use constants defined in the GNU Scientific\n",
    "Library (GSL).  For consistency, the wnnet package uses the same constants,\n",
    "which are defined here."
   ]
  },
  {
   "cell_type": "code",
   "execution_count": 2,
   "metadata": {},
   "outputs": [
    {
     "name": "stdout",
     "output_type": "stream",
     "text": [
      "Speed of light in cm/s : 29979245800.0\n",
      "Unit Transfer from Energy to Mev : 624150.9647120418\n",
      "Boltzman Constant : 1.3806504e-16\n",
      "Mass of Electron : 9.10938188e-28\n"
     ]
    }
   ],
   "source": [
    "print('Speed of light in cm/s :', wc.c)\n",
    "print('Unit Transfer from Energy to Mev :', wc.ergs_to_MeV)\n",
    "print('Boltzman Constant :', wc.GSL_CONST_CGS_BOLTZMANN)\n",
    "print('Mass of Electron :', wc.GSL_CONST_CGS_MASS_ELECTRON)"
   ]
  },
  {
   "cell_type": "code",
   "execution_count": 3,
   "metadata": {},
   "outputs": [],
   "source": [
    "net = wn.Net(\"out.xml\")"
   ]
  },
  {
   "cell_type": "markdown",
   "metadata": {},
   "source": [
    "### Compute nuclide data"
   ]
  },
  {
   "cell_type": "markdown",
   "metadata": {},
   "source": [
    "You can retrieve the nuclide data in the webnucleo XML file by typing:"
   ]
  },
  {
   "cell_type": "code",
   "execution_count": 4,
   "metadata": {},
   "outputs": [],
   "source": [
    "nuclides = net.get_nuclides()"
   ]
  },
  {
   "cell_type": "markdown",
   "metadata": {},
   "source": [
    "This returns a dictionary of data with the key being the nuclide name. Here I will show the first two nuclides. For each nuclide, the attributes are nuclide name, z, n, a and et al, which can be found below. "
   ]
  },
  {
   "cell_type": "code",
   "execution_count": 5,
   "metadata": {},
   "outputs": [
    {
     "name": "stdout",
     "output_type": "stream",
     "text": [
      "Nuclide Name : h2\n",
      "z : 1\n",
      "a : 2\n",
      "n : 1\n",
      "state : \n",
      "source : ame11\n",
      "mass excess : 13.136\n",
      "spin : 1.0\n",
      "t9 : [ 0.1   0.15  0.2   0.3   0.4   0.5   0.6   0.7   0.8   0.9   1.    1.5\n",
      "  2.    2.5   3.    3.5   4.    4.5   5.    6.    7.    8.    9.   10.  ]\n",
      "partf : [3. 3. 3. 3. 3. 3. 3. 3. 3. 3. 3. 3. 3. 3. 3. 3. 3. 3. 3. 3. 3. 3. 3. 3.]\n",
      "\n",
      "Nuclide Name : h3\n",
      "z : 1\n",
      "a : 3\n",
      "n : 2\n",
      "state : \n",
      "source : ame11\n",
      "mass excess : 14.95\n",
      "spin : 0.5\n",
      "t9 : [ 0.1   0.15  0.2   0.3   0.4   0.5   0.6   0.7   0.8   0.9   1.    1.5\n",
      "  2.    2.5   3.    3.5   4.    4.5   5.    6.    7.    8.    9.   10.  ]\n",
      "partf : [2. 2. 2. 2. 2. 2. 2. 2. 2. 2. 2. 2. 2. 2. 2. 2. 2. 2. 2. 2. 2. 2. 2. 2.]\n",
      "\n"
     ]
    }
   ],
   "source": [
    "example = list(nuclides.items())[:2]\n",
    "\n",
    "for keys, nuclide in example:\n",
    "    print('Nuclide Name :', keys)\n",
    "    for attribute, value in nuclide.items():\n",
    "        print('{} : {}'.format(attribute, value))\n",
    "    print()"
   ]
  },
  {
   "cell_type": "markdown",
   "metadata": {},
   "source": [
    "You may print out all the data for a specific nuclide, say, o16, by typing:"
   ]
  },
  {
   "cell_type": "code",
   "execution_count": 6,
   "metadata": {},
   "outputs": [
    {
     "name": "stdout",
     "output_type": "stream",
     "text": [
      "{'z': 8, 'a': 16, 'n': 8, 'state': '', 'source': 'ame11', 'mass excess': -4.737, 'spin': 0.0, 't9': array([ 0.1 ,  0.15,  0.2 ,  0.3 ,  0.4 ,  0.5 ,  0.6 ,  0.7 ,  0.8 ,\n",
      "        0.9 ,  1.  ,  1.5 ,  2.  ,  2.5 ,  3.  ,  3.5 ,  4.  ,  4.5 ,\n",
      "        5.  ,  6.  ,  7.  ,  8.  ,  9.  , 10.  ]), 'partf': array([1., 1., 1., 1., 1., 1., 1., 1., 1., 1., 1., 1., 1., 1., 1., 1., 1.,\n",
      "       1., 1., 1., 1., 1., 1., 1.])}\n"
     ]
    }
   ],
   "source": [
    "print(nuclides['o16'])"
   ]
  },
  {
   "cell_type": "markdown",
   "metadata": {},
   "source": [
    " To get a specific property of a nuclide, like mass excess or data source, try typing:"
   ]
  },
  {
   "cell_type": "code",
   "execution_count": 7,
   "metadata": {},
   "outputs": [
    {
     "name": "stdout",
     "output_type": "stream",
     "text": [
      "-4.737\n",
      "ame11\n"
     ]
    }
   ],
   "source": [
    "print(nuclides['o16']['mass excess'])\n",
    "print(nuclides['o16']['source'])"
   ]
  },
  {
   "cell_type": "markdown",
   "metadata": {},
   "source": [
    "To get the partition function of a muclide at different temperature, try type"
   ]
  },
  {
   "cell_type": "code",
   "execution_count": 8,
   "metadata": {},
   "outputs": [
    {
     "name": "stdout",
     "output_type": "stream",
     "text": [
      "Temprature in GK : [ 0.1   0.15  0.2   0.3   0.4   0.5   0.6   0.7   0.8   0.9   1.    1.5\n",
      "  2.    2.5   3.    3.5   4.    4.5   5.    6.    7.    8.    9.   10.  ]\n",
      "Partition function : [1.         1.         1.         1.         1.         1.\n",
      " 1.         1.         1.         1.         1.         1.\n",
      " 1.         1.         1.         1.         1.         1.\n",
      " 1.         1.00999999 1.03999991 1.09000001 1.19999987 1.37999973]\n"
     ]
    }
   ],
   "source": [
    "print('Temprature in GK :', nuclides['ca40']['t9'])\n",
    "print('Partition function :', nuclides['ca40']['partf'])"
   ]
  },
  {
   "cell_type": "markdown",
   "metadata": {},
   "source": [
    "We can also compute the partition function for a nuclide at specific temperature directly by typing:"
   ]
  },
  {
   "cell_type": "code",
   "execution_count": 9,
   "metadata": {},
   "outputs": [
    {
     "name": "stdout",
     "output_type": "stream",
     "text": [
      "The partition function of o18 at teperature T9 = 2 is : 1.0\n"
     ]
    }
   ],
   "source": [
    "pf = net.compute_nuclear_partition_function('o18', 2)\n",
    "print('The partition function of o18 at teperature T9 = 2 is :', pf)"
   ]
  },
  {
   "cell_type": "markdown",
   "metadata": {},
   "source": [
    "To get the quantum abundance of the nuclide at the input temperature (GK) and density (g/cc)."
   ]
  },
  {
   "cell_type": "code",
   "execution_count": 10,
   "metadata": {},
   "outputs": [
    {
     "name": "stdout",
     "output_type": "stream",
     "text": [
      "The quantum abundance of o16 at T9 = 0.2 and $\r",
      "ho$ = 10 is : 5646352130.47\n"
     ]
    }
   ],
   "source": [
    "Y_Q = net.compute_quantum_abundance('o16', 0.2, 10)\n",
    "print('The quantum abundance of o16 at T9 = 0.2 and $\\rho$ = 10 is :', '{:.2f}'.format(Y_Q))"
   ]
  },
  {
   "cell_type": "markdown",
   "metadata": {},
   "source": [
    "You can also compute the binding energy (MeV) of a species by typing."
   ]
  },
  {
   "cell_type": "code",
   "execution_count": 11,
   "metadata": {},
   "outputs": [
    {
     "name": "stdout",
     "output_type": "stream",
     "text": [
      "The binding energy of ca40 is : 342.046\n"
     ]
    }
   ],
   "source": [
    "B = net.compute_binding_energy('ca40')\n",
    "print('The binding energy of ca40 is :', B)"
   ]
  },
  {
   "cell_type": "markdown",
   "metadata": {},
   "source": [
    "### Read the reaction data\n",
    "You can retrieve the reaction data in a network calculation by typing:"
   ]
  },
  {
   "cell_type": "code",
   "execution_count": 12,
   "metadata": {},
   "outputs": [],
   "source": [
    "reactions = net.get_reactions()"
   ]
  },
  {
   "cell_type": "markdown",
   "metadata": {},
   "source": [
    "This returns a dictionart with the key being the reactions string and each value being a reaction. To see a list of the reactions (here shows the first four reactions), type:"
   ]
  },
  {
   "cell_type": "code",
   "execution_count": 13,
   "metadata": {},
   "outputs": [
    {
     "name": "stdout",
     "output_type": "stream",
     "text": [
      "('fe79 -> co79 + electron + anti-neutrino_e', <wnutils.xml.Reaction object at 0x10ee4a220>)\n",
      "('he4 + cu51 -> h1 + zn54', <wnutils.xml.Reaction object at 0x10ee6cf40>)\n",
      "('he4 + ne18 -> mg22 + gamma', <wnutils.xml.Reaction object at 0x10ee6c6a0>)\n",
      "('h1 + cl54 -> n + ar54', <wnutils.xml.Reaction object at 0x10ee6ce50>)\n"
     ]
    }
   ],
   "source": [
    "for r in list(reactions.items())[0:4]:\n",
    "    print(r)"
   ]
  },
  {
   "cell_type": "markdown",
   "metadata": {},
   "source": [
    "You can also check whether one reaction is weak reaction or not, by typing:"
   ]
  },
  {
   "cell_type": "code",
   "execution_count": 14,
   "metadata": {},
   "outputs": [
    {
     "name": "stdout",
     "output_type": "stream",
     "text": [
      "fe79 -> co79 + electron + anti-neutrino_e\n",
      "True\n",
      "he4 + cu51 -> h1 + zn54\n",
      "False\n",
      "he4 + ne18 -> mg22 + gamma\n",
      "False\n",
      "h1 + cl54 -> n + ar54\n",
      "False\n"
     ]
    }
   ],
   "source": [
    "\n",
    "for r, value in list(reactions.items())[:4]:\n",
    "    print(r)\n",
    "    print(net.is_weak_reaction(r))\n"
   ]
  },
  {
   "cell_type": "markdown",
   "metadata": {},
   "source": [
    "You can use an XPath expression to select the reactions with specific reactants and products. For example, you can type:"
   ]
  },
  {
   "cell_type": "code",
   "execution_count": 15,
   "metadata": {},
   "outputs": [],
   "source": [
    "induced_reac_xpath = \"[(reactant = 'n' and product = 'gamma') or (product = 'electron') or (reactant = 'electron') or (product = 'positron')]\"\n",
    "induced_reactions = net.get_reactions(reac_xpath=induced_reac_xpath)"
   ]
  },
  {
   "cell_type": "markdown",
   "metadata": {},
   "source": [
    "This will return a dictionary of reaction. We can print it out by typing:"
   ]
  },
  {
   "cell_type": "code",
   "execution_count": 16,
   "metadata": {},
   "outputs": [
    {
     "name": "stdout",
     "output_type": "stream",
     "text": [
      "reaction : fe79 -> co79 + electron + anti-neutrino_e\n",
      "reaction : ne33 -> n + n + na31 + electron + anti-neutrino_e\n",
      "reaction : cr70 -> n + n + n + mn67 + electron + anti-neutrino_e\n",
      "reaction : co86 -> n + n + ni84 + electron + anti-neutrino_e\n"
     ]
    }
   ],
   "source": [
    "for key, value in list(induced_reactions.items())[:4]:\n",
    "    print('reaction :', key)"
   ]
  },
  {
   "cell_type": "markdown",
   "metadata": {},
   "source": [
    "You may choose a particular reaction from the dictionary and see the properties of this reaction by typing:"
   ]
  },
  {
   "cell_type": "code",
   "execution_count": 17,
   "metadata": {},
   "outputs": [
    {
     "name": "stdout",
     "output_type": "stream",
     "text": [
      "Reactants : ['n', 'ni80']\n",
      "Products : ['ni81', 'gamma']\n",
      "Source : rath\n"
     ]
    }
   ],
   "source": [
    "reac = reactions['n + ni80 -> ni81 + gamma']\n",
    "print('Reactants :', reac.reactants)\n",
    "print('Products :', reac.products)\n",
    "print('Source :', reac.source)"
   ]
  },
  {
   "cell_type": "markdown",
   "metadata": {},
   "source": [
    "You can also compute the rate for the reaction (among interacting multiplets and assuming one of the standard rate forms single_rate, rate_table, or non_smoker_fit) at a variety of temperatures by typing:"
   ]
  },
  {
   "cell_type": "code",
   "execution_count": 18,
   "metadata": {},
   "outputs": [
    {
     "name": "stdout",
     "output_type": "stream",
     "text": [
      "Temperature : 0.01 ;  Partition function : 3.4799\n",
      "Temperature : 0.02 ;  Partition function : 3.8118\n",
      "Temperature : 0.05 ;  Partition function : 3.7454\n",
      "Temperature : 0.10 ;  Partition function : 3.5000\n",
      "Temperature : 0.22 ;  Partition function : 3.3896\n",
      "Temperature : 0.46 ;  Partition function : 3.8817\n",
      "Temperature : 1.00 ;  Partition function : 6.4353\n",
      "Temperature : 2.15 ;  Partition function : 19.8628\n",
      "Temperature : 4.64 ;  Partition function : 112.4717\n",
      "Temperature : 10.00 ;  Partition function : 169.9516\n"
     ]
    }
   ],
   "source": [
    "import numpy as np\n",
    "t9s = np.power(10., np.linspace(-2, 1, 10))\n",
    "for t9 in t9s:\n",
    "    print('Temperature :', '{:.2f}'.format(t9), '; ', 'Partition function :', '{:.4f}'.format(reac.compute_rate(t9))) "
   ]
  },
  {
   "cell_type": "markdown",
   "metadata": {},
   "source": [
    "### Read nuclear reaction networks data\n",
    "One can read the reaction network with a reduced nuclides Xpath and a reduced reactions Xpath"
   ]
  },
  {
   "cell_type": "code",
   "execution_count": 19,
   "metadata": {},
   "outputs": [],
   "source": [
    "induced_nuc_xpath = \"[z >= 20 and a - z >= 20 and z <= 25 and a - z <= 25]\"\n",
    "induced_reac_xpath = \"[(reactant = 'n' and product = 'gamma') or (product = 'electron') or (reactant = 'electron') or (product = 'positron')]\""
   ]
  },
  {
   "cell_type": "markdown",
   "metadata": {},
   "source": [
    "the first line selects nuclides with proton number larger or equal to 20 and smaller or equal to 25, with neutron number larger or equal to 25 and smaller or equal to 25.  The second chooses reactions with the specified reactants and products."
   ]
  },
  {
   "cell_type": "markdown",
   "metadata": {},
   "source": [
    "With those selected nuclides and their reactions, one can compute the reaction Q values by typing:"
   ]
  },
  {
   "cell_type": "code",
   "execution_count": 20,
   "metadata": {},
   "outputs": [],
   "source": [
    "Q_value = net.compute_Q_values(induced_nuc_xpath, induced_reac_xpath)"
   ]
  },
  {
   "cell_type": "markdown",
   "metadata": {},
   "source": [
    "This will return a dictionary with keys being the reaction strings and values storing the Q values. The following command shows the first four reactions and the corresponding Q values."
   ]
  },
  {
   "cell_type": "code",
   "execution_count": 21,
   "metadata": {},
   "outputs": [],
   "source": [
    "for reac, Q in list(Q_value.items())[:4]:\n",
    "    print('Reaction :', reac, '  ', 'Q_value :', '{:.2f}'.format(Q))"
   ]
  },
  {
   "cell_type": "markdown",
   "metadata": {},
   "source": [
    "One can compute the forward and reverse rates of a collection of reactions at a specific temperature. "
   ]
  },
  {
   "cell_type": "code",
   "execution_count": 22,
   "metadata": {},
   "outputs": [],
   "source": [
    "reac_rates = net.compute_rates(2, induced_nuc_xpath, induced_reac_xpath)\n"
   ]
  },
  {
   "cell_type": "markdown",
   "metadata": {},
   "source": [
    "This will return a dictionary containing the rates.  The key is the reaction string while the value is a two-element tuple with the first element being the forward rate and the second element being the reverse rate."
   ]
  },
  {
   "cell_type": "code",
   "execution_count": 23,
   "metadata": {},
   "outputs": [],
   "source": [
    "for key, values in list(reac_rates.items())[:4]:\n",
    "    print('reaction :', key, ';', 'Forward rate :', '{:.2e}'.format(values[0]), ';', 'Reverse rate :', '{:.2e}'.format(values[1]))"
   ]
  },
  {
   "cell_type": "markdown",
   "metadata": {},
   "source": [
    "### Read the reaction flow data\n",
    "This module computes various reaction flows in a network for a given set of mass fractions at the input temperature and density. With the network data, we need to select the zone (timestep) first."
   ]
  },
  {
   "cell_type": "code",
   "execution_count": 24,
   "metadata": {},
   "outputs": [],
   "source": [
    "zone_data = wz.Zones_Xml(\"out.xml\")"
   ]
  },
  {
   "cell_type": "markdown",
   "metadata": {},
   "source": [
    "This will get all of the zone data. If we would like to get data objects of all zones, we can type:"
   ]
  },
  {
   "cell_type": "code",
   "execution_count": 25,
   "metadata": {},
   "outputs": [],
   "source": [
    "my_zone_xpath = \"\"\n",
    "zones = zone_data.get_zones(zone_xpath=my_zone_xpath)"
   ]
  },
  {
   "cell_type": "markdown",
   "metadata": {},
   "source": [
    "This will return a dictionary of flows for all zones.  The data for each zone is the zone number and all network properties in that zone. If we would like to get data objects of some zones (say zone 20 to zone 30), we can type:"
   ]
  },
  {
   "cell_type": "code",
   "execution_count": 26,
   "metadata": {},
   "outputs": [],
   "source": [
    "my_zone_xpath = \"[position() >= 20 and position() <= 25]\"\n",
    "zones = zone_data.get_zones(zone_xpath=my_zone_xpath)"
   ]
  },
  {
   "cell_type": "markdown",
   "metadata": {},
   "source": [
    "Now, you can compute the flow data in those selected zones by typing:"
   ]
  },
  {
   "cell_type": "code",
   "execution_count": 27,
   "metadata": {},
   "outputs": [
    {
     "ename": "AttributeError",
     "evalue": "'Reaction' object has no attribute 'nuclide_reactants'",
     "output_type": "error",
     "traceback": [
      "\u001b[0;31m---------------------------------------------------------------------------\u001b[0m",
      "\u001b[0;31mAttributeError\u001b[0m                            Traceback (most recent call last)",
      "Input \u001b[0;32mIn [27]\u001b[0m, in \u001b[0;36m<module>\u001b[0;34m\u001b[0m\n\u001b[0;32m----> 1\u001b[0m f \u001b[38;5;241m=\u001b[39m \u001b[43mwf\u001b[49m\u001b[38;5;241;43m.\u001b[39;49m\u001b[43mcompute_flows_for_zones\u001b[49m\u001b[43m(\u001b[49m\u001b[43mnet\u001b[49m\u001b[43m,\u001b[49m\u001b[43m \u001b[49m\u001b[43mzones\u001b[49m\u001b[43m)\u001b[49m\n",
      "File \u001b[0;32m~/my-project/wnnet/wnnet/flows.py:101\u001b[0m, in \u001b[0;36mcompute_flows_for_zones\u001b[0;34m(net, zones, nuc_xpath, reac_xpath)\u001b[0m\n\u001b[1;32m     99\u001b[0m     props \u001b[38;5;241m=\u001b[39m zones[zone][\u001b[38;5;124m\"\u001b[39m\u001b[38;5;124mproperties\u001b[39m\u001b[38;5;124m\"\u001b[39m]\n\u001b[1;32m    100\u001b[0m     \u001b[38;5;28;01mif\u001b[39;00m s_t9 \u001b[38;5;129;01min\u001b[39;00m props \u001b[38;5;129;01mand\u001b[39;00m s_rho \u001b[38;5;129;01min\u001b[39;00m props:\n\u001b[0;32m--> 101\u001b[0m         f \u001b[38;5;241m=\u001b[39m \u001b[43mcompute_flows\u001b[49m\u001b[43m(\u001b[49m\n\u001b[1;32m    102\u001b[0m \u001b[43m            \u001b[49m\u001b[43mnet\u001b[49m\u001b[43m,\u001b[49m\n\u001b[1;32m    103\u001b[0m \u001b[43m            \u001b[49m\u001b[38;5;28;43mfloat\u001b[39;49m\u001b[43m(\u001b[49m\u001b[43mprops\u001b[49m\u001b[43m[\u001b[49m\u001b[43ms_t9\u001b[49m\u001b[43m]\u001b[49m\u001b[43m)\u001b[49m\u001b[43m,\u001b[49m\n\u001b[1;32m    104\u001b[0m \u001b[43m            \u001b[49m\u001b[38;5;28;43mfloat\u001b[39;49m\u001b[43m(\u001b[49m\u001b[43mprops\u001b[49m\u001b[43m[\u001b[49m\u001b[43ms_rho\u001b[49m\u001b[43m]\u001b[49m\u001b[43m)\u001b[49m\u001b[43m,\u001b[49m\n\u001b[1;32m    105\u001b[0m \u001b[43m            \u001b[49m\u001b[43mzones\u001b[49m\u001b[43m[\u001b[49m\u001b[43mzone\u001b[49m\u001b[43m]\u001b[49m\u001b[43m[\u001b[49m\u001b[38;5;124;43m\"\u001b[39;49m\u001b[38;5;124;43mmass fractions\u001b[39;49m\u001b[38;5;124;43m\"\u001b[39;49m\u001b[43m]\u001b[49m\u001b[43m,\u001b[49m\n\u001b[1;32m    106\u001b[0m \u001b[43m            \u001b[49m\u001b[43mnuc_xpath\u001b[49m\u001b[38;5;241;43m=\u001b[39;49m\u001b[43mnuc_xpath\u001b[49m\u001b[43m,\u001b[49m\n\u001b[1;32m    107\u001b[0m \u001b[43m            \u001b[49m\u001b[43mreac_xpath\u001b[49m\u001b[38;5;241;43m=\u001b[39;49m\u001b[43mreac_xpath\u001b[49m\u001b[43m,\u001b[49m\n\u001b[1;32m    108\u001b[0m \u001b[43m        \u001b[49m\u001b[43m)\u001b[49m\n\u001b[1;32m    110\u001b[0m         zone_flows[zone] \u001b[38;5;241m=\u001b[39m f\n\u001b[1;32m    112\u001b[0m \u001b[38;5;28;01mreturn\u001b[39;00m zone_flows\n",
      "File \u001b[0;32m~/my-project/wnnet/wnnet/flows.py:41\u001b[0m, in \u001b[0;36mcompute_flows\u001b[0;34m(net, t9, rho, mass_fractions, nuc_xpath, reac_xpath)\u001b[0m\n\u001b[1;32m     35\u001b[0m reactions \u001b[38;5;241m=\u001b[39m net\u001b[38;5;241m.\u001b[39mget_reactions()\n\u001b[1;32m     37\u001b[0m valid_reactions \u001b[38;5;241m=\u001b[39m net\u001b[38;5;241m.\u001b[39mget_valid_reactions(\n\u001b[1;32m     38\u001b[0m     nuc_xpath\u001b[38;5;241m=\u001b[39mnuc_xpath, reac_xpath\u001b[38;5;241m=\u001b[39mreac_xpath\n\u001b[1;32m     39\u001b[0m )\n\u001b[0;32m---> 41\u001b[0m dups \u001b[38;5;241m=\u001b[39m \u001b[43mnet\u001b[49m\u001b[38;5;241;43m.\u001b[39;49m\u001b[43mcompute_duplicate_factors\u001b[49m\u001b[43m(\u001b[49m\u001b[43m)\u001b[49m\n\u001b[1;32m     43\u001b[0m f \u001b[38;5;241m=\u001b[39m {}\n\u001b[1;32m     45\u001b[0m \u001b[38;5;28;01mfor\u001b[39;00m reaction \u001b[38;5;129;01min\u001b[39;00m valid_reactions:\n",
      "File \u001b[0;32m~/my-project/wnnet/wnnet/reac.py:80\u001b[0m, in \u001b[0;36mReac.compute_duplicate_factors\u001b[0;34m(self, reac_xpath)\u001b[0m\n\u001b[1;32m     78\u001b[0m result \u001b[38;5;241m=\u001b[39m {}\n\u001b[1;32m     79\u001b[0m \u001b[38;5;28;01mfor\u001b[39;00m r \u001b[38;5;129;01min\u001b[39;00m \u001b[38;5;28mself\u001b[39m\u001b[38;5;241m.\u001b[39mget_reactions(reac_xpath\u001b[38;5;241m=\u001b[39mreac_xpath):\n\u001b[0;32m---> 80\u001b[0m     result[r] \u001b[38;5;241m=\u001b[39m \u001b[38;5;28;43mself\u001b[39;49m\u001b[38;5;241;43m.\u001b[39;49m\u001b[43mcompute_reaction_duplicate_factors\u001b[49m\u001b[43m(\u001b[49m\u001b[43mr\u001b[49m\u001b[43m)\u001b[49m\n\u001b[1;32m     81\u001b[0m \u001b[38;5;28;01mreturn\u001b[39;00m result\n",
      "File \u001b[0;32m~/my-project/wnnet/wnnet/reac.py:63\u001b[0m, in \u001b[0;36mReac.compute_reaction_duplicate_factors\u001b[0;34m(self, name)\u001b[0m\n\u001b[1;32m     51\u001b[0m \u001b[38;5;124;03m\"\"\"Method to compute the duplicate reaction element factors for a reaction.\u001b[39;00m\n\u001b[1;32m     52\u001b[0m \n\u001b[1;32m     53\u001b[0m \u001b[38;5;124;03mArgs:\u001b[39;00m\n\u001b[0;32m   (...)\u001b[0m\n\u001b[1;32m     58\u001b[0m \n\u001b[1;32m     59\u001b[0m \u001b[38;5;124;03m\"\"\"\u001b[39;00m\n\u001b[1;32m     61\u001b[0m reaction \u001b[38;5;241m=\u001b[39m \u001b[38;5;28mself\u001b[39m\u001b[38;5;241m.\u001b[39mget_reactions()[name]\n\u001b[1;32m     62\u001b[0m \u001b[38;5;28;01mreturn\u001b[39;00m (\n\u001b[0;32m---> 63\u001b[0m     \u001b[38;5;28mself\u001b[39m\u001b[38;5;241m.\u001b[39m_compute_duplicate_factor(\u001b[43mreaction\u001b[49m\u001b[38;5;241;43m.\u001b[39;49m\u001b[43mnuclide_reactants\u001b[49m),\n\u001b[1;32m     64\u001b[0m     \u001b[38;5;28mself\u001b[39m\u001b[38;5;241m.\u001b[39m_compute_duplicate_factor(reaction\u001b[38;5;241m.\u001b[39mnuclide_products),\n\u001b[1;32m     65\u001b[0m )\n",
      "\u001b[0;31mAttributeError\u001b[0m: 'Reaction' object has no attribute 'nuclide_reactants'"
     ]
    }
   ],
   "source": [
    "f = wf.compute_flows_for_zones(net, zones)"
   ]
  },
  {
   "cell_type": "markdown",
   "metadata": {},
   "source": [
    "This will return a dictionary for selected zones. In each zone, there is a dictionary storing the flow data. Here I will show the first three reactions in each zone.  "
   ]
  },
  {
   "cell_type": "code",
   "execution_count": null,
   "metadata": {},
   "outputs": [],
   "source": [
    "for key, value in f.items():\n",
    "    print('Zone Number :', key)\n",
    "    for attri, flows in list(value.items())[:3]:\n",
    "        print('Reaction :', attri)\n",
    "        print('Forward flow, Reverse flow:', flows)"
   ]
  },
  {
   "cell_type": "markdown",
   "metadata": {},
   "source": [
    "If we would like to get the data for one specific zone (say zone 20), we can type:"
   ]
  },
  {
   "cell_type": "code",
   "execution_count": null,
   "metadata": {},
   "outputs": [],
   "source": [
    "zone_20 = zone_data.get_zones(zone_xpath=\"[position() = 20]\")\n"
   ]
  },
  {
   "cell_type": "markdown",
   "metadata": {},
   "source": [
    "This will return a dictionary including the zone number 19 and all the properties like temperature, density, mass fraction, timestep et al. For this zone, we can compute abundance flows by typing. "
   ]
  },
  {
   "cell_type": "code",
   "execution_count": null,
   "metadata": {},
   "outputs": [],
   "source": [
    "f = wf.compute_flows_for_zones(net, zone_20)"
   ]
  },
  {
   "cell_type": "markdown",
   "metadata": {},
   "source": [
    "This will return a dictionary with keys being the reaction strings and tuples showing the forward and reverse flows. Here I will print the first four reactions in zone 20."
   ]
  },
  {
   "cell_type": "code",
   "execution_count": null,
   "metadata": {},
   "outputs": [],
   "source": [
    "for key, value in f.items():\n",
    "    print('Zone Number :', key)\n",
    "    for attri, flows in list(value.items())[:4]:\n",
    "        print('Reaction :', attri)\n",
    "        print('Forward flow, Reverse flow:', flows)"
   ]
  },
  {
   "cell_type": "markdown",
   "metadata": {},
   "source": [
    "It is useful to compute the link between the reactant (source vertex) and product (reverse vertex) in reactions. In the analysis of branching theory, we will use thoes link flows to create branching graph. As an example, we could compute all of the flow links in zone 20. "
   ]
  },
  {
   "cell_type": "code",
   "execution_count": null,
   "metadata": {},
   "outputs": [],
   "source": [
    "f = wf.compute_link_flows_for_zones(net, zone_20, include_dt=False)\n",
    "#if include_dt = True, there are type errors. Need to figure out how to include dt. "
   ]
  },
  {
   "cell_type": "markdown",
   "metadata": {},
   "source": [
    "This will return a dictionary with keys being the reaction string and values being a tuple showing the source vertex, target vertex and the link weight."
   ]
  },
  {
   "cell_type": "code",
   "execution_count": null,
   "metadata": {},
   "outputs": [],
   "source": [
    "for i in f:\n",
    "    print('Zone number :', i)\n",
    "    for key, value in list(f[i].items())[:4]:\n",
    "        print('Reaction :', key)\n",
    "        print('(Source, Target, Weight) :', value)"
   ]
  },
  {
   "cell_type": "markdown",
   "metadata": {},
   "source": [
    "If we would like to compute the link flows for a set of zones, we can replace the zone 20 to a group of zones by typing: "
   ]
  },
  {
   "cell_type": "code",
   "execution_count": null,
   "metadata": {},
   "outputs": [],
   "source": [
    "f = wf.compute_link_flows_for_zones(net, zones, include_dt=False)"
   ]
  },
  {
   "cell_type": "markdown",
   "metadata": {},
   "source": [
    "This will return a dictionary with keys being the zone numbers. In each zone, there is a dictionary with keys the reaction strings and a tuple showing (Source, Target, Weight). The commands below show the first two reactions in each zone.  "
   ]
  },
  {
   "cell_type": "code",
   "execution_count": null,
   "metadata": {},
   "outputs": [],
   "source": [
    "for i in f:\n",
    "    print('Zone number :', i)\n",
    "    for key, value in list(f[i].items())[:2]:\n",
    "        print(key, value)"
   ]
  },
  {
   "cell_type": "markdown",
   "metadata": {},
   "source": [
    "### Create network graph "
   ]
  },
  {
   "cell_type": "markdown",
   "metadata": {},
   "source": [
    "This section will show how to create a network graph. Firstly, we need to get all of the nuclides in the network calculation by typing:"
   ]
  },
  {
   "cell_type": "code",
   "execution_count": null,
   "metadata": {},
   "outputs": [],
   "source": [
    "graph_nuclides = net.get_nuclides(nuc_xpath=\"\")"
   ]
  },
  {
   "cell_type": "markdown",
   "metadata": {},
   "source": [
    " If we don't want to get the full graph, we can create a subgraph by setting the nuc_xpath to include specific nuclides and reactions by typing:"
   ]
  },
  {
   "cell_type": "code",
   "execution_count": null,
   "metadata": {},
   "outputs": [],
   "source": [
    "graph_nuclides = net.get_nuclides(nuc_xpath=\"[z >= 20 and z <= 30 and a - z >= 20 and a - z <= 40]\")\n",
    "induced_reac_xpath = \"[(reactant = 'n' and product = 'gamma') or (product = 'electron') or (reactant = 'electron') or (product = 'positron')]\""
   ]
  },
  {
   "cell_type": "markdown",
   "metadata": {},
   "source": [
    "To make the graph look well-organized, we need to set the location (x, y) of each nuclide to (N, Z). As usual, here I will show the first four vertices by typing: "
   ]
  },
  {
   "cell_type": "code",
   "execution_count": null,
   "metadata": {},
   "outputs": [],
   "source": [
    "for sp, attri in list(graph_nuclides.items())[:4]:\n",
    "    print(\n",
    "        \"Add\",\n",
    "        sp,\n",
    "        \"as vertex in graph at position (\",\n",
    "        (graph_nuclides[sp][\"a\"] - graph_nuclides[sp][\"z\"]),\n",
    "        \", \",\n",
    "        graph_nuclides[sp][\"z\"],\n",
    "        \")\",\n",
    "    )"
   ]
  },
  {
   "cell_type": "markdown",
   "metadata": {},
   "source": [
    "We can set the title of the graph by typing:"
   ]
  },
  {
   "cell_type": "code",
   "execution_count": null,
   "metadata": {},
   "outputs": [],
   "source": [
    "graph_attributes = {\n",
    "    \"label\": \"My Network Graph\",\n",
    "    \"labelloc\": \"t\",\n",
    "    \"fontsize\": 30,\n",
    "    \"fontcolor\": \"blue\",\n",
    "}"
   ]
  },
  {
   "cell_type": "markdown",
   "metadata": {},
   "source": [
    "We can also set the properties of the vertex edge, vertex node, and special node. "
   ]
  },
  {
   "cell_type": "code",
   "execution_count": null,
   "metadata": {},
   "outputs": [],
   "source": [
    "edge_attributes = {\"penwidth\": 2}\n",
    "\n",
    "node_attributes = {\"style\": \"filled\", \"fillcolor\": \"bisque\"}\n",
    "\n",
    "special_attributes = {\n",
    "    \"fe56\": {\"fillcolor\": \"green\", \"shape\": \"oval\", \"style\": \"filled\"}\n",
    "}"
   ]
  },
  {
   "cell_type": "markdown",
   "metadata": {},
   "source": [
    "We can change the propoerties of a list of nuclei, like solar data."
   ]
  },
  {
   "cell_type": "code",
   "execution_count": null,
   "metadata": {},
   "outputs": [],
   "source": [
    "solar_attributes = {\"fillcolor\": \"white\", \"style\": \"filled\"}"
   ]
  },
  {
   "cell_type": "markdown",
   "metadata": {},
   "source": [
    "Usually, we want to mark different types of reactions as different colors. So, we can write a color tuples to specify the color of some types of reactions. "
   ]
  },
  {
   "cell_type": "code",
   "execution_count": null,
   "metadata": {},
   "outputs": [],
   "source": [
    "\n",
    "color_tuples = [\n",
    "    (\"[product = 'electron']\", \"blue\"),\n",
    "    (\"[(reactant = 'electron') or (product = 'positron')]\", \"red\"),\n",
    "]"
   ]
  },
  {
   "cell_type": "markdown",
   "metadata": {},
   "source": [
    "Now, we can create the network graph with all the properties we have set above."
   ]
  },
  {
   "cell_type": "code",
   "execution_count": null,
   "metadata": {},
   "outputs": [],
   "source": [
    "\n",
    "my_graph = wg.create_network_graph(\n",
    "    net,\n",
    "    direction= \"both\", #\"forward\",   # or \"reverse\" or \"both\"\n",
    "    induced_nuc_xpath=induced_nuc_xpath,\n",
    "    induced_reac_xpath=induced_reac_xpath,\n",
    "    reaction_color_tuples=color_tuples,\n",
    "    graph_attributes=graph_attributes,\n",
    "    allow_isolated_species=True,\n",
    "    edge_attributes=edge_attributes,\n",
    "    node_attributes=node_attributes,\n",
    "    solar_node_attributes=solar_attributes,\n",
    "    special_node_attributes=special_attributes,\n",
    ")"
   ]
  },
  {
   "cell_type": "markdown",
   "metadata": {},
   "source": [
    "Once we have our graph with induced_nuclides and induced_reactions. To show this graph, we need to import networkx python module. If you don't have this module, please install it by typing: \n",
    "$ pip install networkx "
   ]
  },
  {
   "cell_type": "markdown",
   "metadata": {},
   "source": [
    "Once you can successfully import networkx module, we can use it to create a graph. We can save it in pdf, dot, png, et al format."
   ]
  },
  {
   "cell_type": "code",
   "execution_count": null,
   "metadata": {},
   "outputs": [],
   "source": [
    "import networkx as nx\n",
    "A = nx.nx_agraph.to_agraph(my_graph)\n",
    "A.layout()\n",
    "#A.draw('out_file.pdf')\n",
    "A.draw('test-net.png')\n"
   ]
  },
  {
   "cell_type": "markdown",
   "metadata": {},
   "source": [
    "Here I save it to a 'png' format so we can open it with Image viewer."
   ]
  },
  {
   "cell_type": "code",
   "execution_count": null,
   "metadata": {},
   "outputs": [],
   "source": [
    "from IPython.display import Image\n",
    "fig = Image(filename=('./test-net.png'))\n",
    "fig"
   ]
  },
  {
   "cell_type": "markdown",
   "metadata": {},
   "source": [
    "### Create abundance flow graph"
   ]
  },
  {
   "cell_type": "markdown",
   "metadata": {},
   "source": [
    "This module will show how to create a graph showing the abundance flows between species. First, we set the title properties. Then, we specify the nuclides we would like to explore."
   ]
  },
  {
   "cell_type": "code",
   "execution_count": null,
   "metadata": {},
   "outputs": [],
   "source": [
    "induced_nuc_xpath = \"[z >= 24 and a - z >= 25 and z <= 30 and a - z <= 35]\"\n",
    "graph_attributes = {\n",
    "    \"labelloc\": \"t\",\n",
    "    \"fontsize\": 30,\n",
    "    \"fontcolor\": \"blue\",\n",
    "}"
   ]
  },
  {
   "cell_type": "markdown",
   "metadata": {},
   "source": [
    "To distinguish different types of reactions, we set different types of reactions to different colors with tuples. "
   ]
  },
  {
   "cell_type": "code",
   "execution_count": null,
   "metadata": {},
   "outputs": [],
   "source": [
    "color_tuples = [\n",
    "    (\"[(reactant = 'h1' and product = 'n') or (reactant = 'n' and product = 'h1')]\", \"green\",),\n",
    "    (\"[(reactant = 'he4' and product = 'h1') or (reactant = 'h1' and product = 'he4')]\", \"red\",),\n",
    "    (\"[product = 'electron']\", \"blue\"),\n",
    "]"
   ]
  },
  {
   "cell_type": "markdown",
   "metadata": {},
   "source": [
    "We can also specify the vertex edge attributions. If one wants to use one species as a special element, they can set the special attributes. Here Fe56 is an example.   "
   ]
  },
  {
   "cell_type": "code",
   "execution_count": null,
   "metadata": {},
   "outputs": [],
   "source": [
    "edge_attributes = {\"arrowsize\": 0.2}  # This is the default anyway\n",
    "\n",
    "special_attributes = {\n",
    "    \"fe56\": {\"fillcolor\": \"cyan\", \"shape\": \"oval\", \"style\": \"filled\"}\n",
    "}"
   ]
  },
  {
   "cell_type": "markdown",
   "metadata": {},
   "source": [
    "With all of the attributes, we can start to create the flow graph.  "
   ]
  },
  {
   "cell_type": "code",
   "execution_count": null,
   "metadata": {},
   "outputs": [],
   "source": [
    "my_graphs = wg.create_zone_flow_graphs(\n",
    "    net,\n",
    "    zone_20,\n",
    "    induced_nuc_xpath=induced_nuc_xpath,\n",
    "    reaction_color_tuples=color_tuples,\n",
    "    graph_attributes=graph_attributes,\n",
    "    allow_isolated_species=False,\n",
    "    edge_attributes=edge_attributes,\n",
    "    solar_species = [],\n",
    "    special_node_attributes=special_attributes,\n",
    ")"
   ]
  },
  {
   "cell_type": "markdown",
   "metadata": {},
   "source": [
    "This will return all the ingredient for a graph, we can make the graph and save it by typing:"
   ]
  },
  {
   "cell_type": "code",
   "execution_count": null,
   "metadata": {},
   "outputs": [],
   "source": [
    "for zone in my_graphs:\n",
    "    A = nx.nx_agraph.to_agraph(my_graphs[zone])\n",
    "    A.layout()\n",
    "    A.draw('test_flow.png')"
   ]
  },
  {
   "cell_type": "markdown",
   "metadata": {},
   "source": [
    "To view this graph, we can use a Image displayer by typing:"
   ]
  },
  {
   "cell_type": "code",
   "execution_count": null,
   "metadata": {},
   "outputs": [],
   "source": [
    "fig = Image(filename=('./test_flow.png'))\n",
    "fig"
   ]
  },
  {
   "cell_type": "code",
   "execution_count": null,
   "metadata": {},
   "outputs": [],
   "source": [
    "'''\n",
    "for zone in f:\n",
    "    f_max = 0\n",
    "    for r in f[zone]:\n",
    "        for tup in f[zone][r]:\n",
    "            if tup[0] in graph_nuclides and tup[1] in graph_nuclides:\n",
    "                if tup[2] > f_max:\n",
    "                    f_max = tup[2]\n",
    "    for r, value in list(f[zone].items())[0:5]:\n",
    "        print(r, value)\n",
    "        for tup in f[zone][r]:\n",
    "            if tup[0] in graph_nuclides and tup[1] in graph_nuclides:\n",
    "                print(r)\n",
    "                print(\n",
    "                    \"Add arc\",\n",
    "                    tup[1],\n",
    "                    \"->\",\n",
    "                    tup[0],\n",
    "                    \"with weight\",\n",
    "                    tup[2] / f_max,\n",
    "                    \"to graph\",\n",
    "                )\n",
    "'''"
   ]
  }
 ],
 "metadata": {
  "kernelspec": {
   "display_name": "Python 3 (ipykernel)",
   "language": "python",
   "name": "python3"
  },
  "language_info": {
   "codemirror_mode": {
    "name": "ipython",
    "version": 3
   },
   "file_extension": ".py",
   "mimetype": "text/x-python",
   "name": "python",
   "nbconvert_exporter": "python",
   "pygments_lexer": "ipython3",
   "version": "3.8.16"
  },
  "vscode": {
   "interpreter": {
    "hash": "7a792fcb311f9eb9f3c1b942a8c87ada8484712b89b670347c16a1088e0a1f69"
   }
  }
 },
 "nbformat": 4,
 "nbformat_minor": 2
}
